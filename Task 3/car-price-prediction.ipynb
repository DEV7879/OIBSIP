{
 "cells": [
  {
   "cell_type": "markdown",
   "id": "02c78560",
   "metadata": {
    "papermill": {
     "duration": 0.010634,
     "end_time": "2023-10-28T20:22:50.112694",
     "exception": false,
     "start_time": "2023-10-28T20:22:50.102060",
     "status": "completed"
    },
    "tags": []
   },
   "source": [
    "# Oasis Infobyte Data Science Internship\n",
    "# Task 3:- Car_Price_Prediction\n",
    "# Batch:- October Phase 2 OIBSIP\n",
    "# Name:- Devendra Bishnoi"
   ]
  },
  {
   "cell_type": "code",
   "execution_count": 1,
   "id": "d16f8c03",
   "metadata": {
    "execution": {
     "iopub.execute_input": "2023-10-28T20:22:50.136567Z",
     "iopub.status.busy": "2023-10-28T20:22:50.135503Z",
     "iopub.status.idle": "2023-10-28T20:22:52.388997Z",
     "shell.execute_reply": "2023-10-28T20:22:52.387966Z"
    },
    "papermill": {
     "duration": 2.267925,
     "end_time": "2023-10-28T20:22:52.391466",
     "exception": false,
     "start_time": "2023-10-28T20:22:50.123541",
     "status": "completed"
    },
    "tags": []
   },
   "outputs": [],
   "source": [
    "#import the standard librires\n",
    "import pandas as pd,numpy as np,seaborn as sns,matplotlib.pyplot as plt\n",
    "#import the sklearn librares\n",
    "from sklearn.model_selection import train_test_split\n",
    "from sklearn.linear_model import LinearRegression\n",
    "from sklearn.metrics import r2_score,mean_squared_error,mean_absolute_error\n",
    "import math"
   ]
  },
  {
   "cell_type": "code",
   "execution_count": 2,
   "id": "73c29534",
   "metadata": {
    "execution": {
     "iopub.execute_input": "2023-10-28T20:22:52.414828Z",
     "iopub.status.busy": "2023-10-28T20:22:52.413696Z",
     "iopub.status.idle": "2023-10-28T20:22:52.460168Z",
     "shell.execute_reply": "2023-10-28T20:22:52.458993Z"
    },
    "papermill": {
     "duration": 0.060636,
     "end_time": "2023-10-28T20:22:52.462513",
     "exception": false,
     "start_time": "2023-10-28T20:22:52.401877",
     "status": "completed"
    },
    "tags": []
   },
   "outputs": [
    {
     "data": {
      "text/html": [
       "<div>\n",
       "<style scoped>\n",
       "    .dataframe tbody tr th:only-of-type {\n",
       "        vertical-align: middle;\n",
       "    }\n",
       "\n",
       "    .dataframe tbody tr th {\n",
       "        vertical-align: top;\n",
       "    }\n",
       "\n",
       "    .dataframe thead th {\n",
       "        text-align: right;\n",
       "    }\n",
       "</style>\n",
       "<table border=\"1\" class=\"dataframe\">\n",
       "  <thead>\n",
       "    <tr style=\"text-align: right;\">\n",
       "      <th></th>\n",
       "      <th>Car_Name</th>\n",
       "      <th>Year</th>\n",
       "      <th>Selling_Price</th>\n",
       "      <th>Present_Price</th>\n",
       "      <th>Driven_kms</th>\n",
       "      <th>Fuel_Type</th>\n",
       "      <th>Selling_type</th>\n",
       "      <th>Transmission</th>\n",
       "      <th>Owner</th>\n",
       "    </tr>\n",
       "  </thead>\n",
       "  <tbody>\n",
       "    <tr>\n",
       "      <th>0</th>\n",
       "      <td>ritz</td>\n",
       "      <td>2014</td>\n",
       "      <td>3.35</td>\n",
       "      <td>5.59</td>\n",
       "      <td>27000</td>\n",
       "      <td>Petrol</td>\n",
       "      <td>Dealer</td>\n",
       "      <td>Manual</td>\n",
       "      <td>0</td>\n",
       "    </tr>\n",
       "    <tr>\n",
       "      <th>1</th>\n",
       "      <td>sx4</td>\n",
       "      <td>2013</td>\n",
       "      <td>4.75</td>\n",
       "      <td>9.54</td>\n",
       "      <td>43000</td>\n",
       "      <td>Diesel</td>\n",
       "      <td>Dealer</td>\n",
       "      <td>Manual</td>\n",
       "      <td>0</td>\n",
       "    </tr>\n",
       "    <tr>\n",
       "      <th>2</th>\n",
       "      <td>ciaz</td>\n",
       "      <td>2017</td>\n",
       "      <td>7.25</td>\n",
       "      <td>9.85</td>\n",
       "      <td>6900</td>\n",
       "      <td>Petrol</td>\n",
       "      <td>Dealer</td>\n",
       "      <td>Manual</td>\n",
       "      <td>0</td>\n",
       "    </tr>\n",
       "    <tr>\n",
       "      <th>3</th>\n",
       "      <td>wagon r</td>\n",
       "      <td>2011</td>\n",
       "      <td>2.85</td>\n",
       "      <td>4.15</td>\n",
       "      <td>5200</td>\n",
       "      <td>Petrol</td>\n",
       "      <td>Dealer</td>\n",
       "      <td>Manual</td>\n",
       "      <td>0</td>\n",
       "    </tr>\n",
       "    <tr>\n",
       "      <th>4</th>\n",
       "      <td>swift</td>\n",
       "      <td>2014</td>\n",
       "      <td>4.60</td>\n",
       "      <td>6.87</td>\n",
       "      <td>42450</td>\n",
       "      <td>Diesel</td>\n",
       "      <td>Dealer</td>\n",
       "      <td>Manual</td>\n",
       "      <td>0</td>\n",
       "    </tr>\n",
       "  </tbody>\n",
       "</table>\n",
       "</div>"
      ],
      "text/plain": [
       "  Car_Name  Year  Selling_Price  Present_Price  Driven_kms Fuel_Type  \\\n",
       "0     ritz  2014           3.35           5.59       27000    Petrol   \n",
       "1      sx4  2013           4.75           9.54       43000    Diesel   \n",
       "2     ciaz  2017           7.25           9.85        6900    Petrol   \n",
       "3  wagon r  2011           2.85           4.15        5200    Petrol   \n",
       "4    swift  2014           4.60           6.87       42450    Diesel   \n",
       "\n",
       "  Selling_type Transmission  Owner  \n",
       "0       Dealer       Manual      0  \n",
       "1       Dealer       Manual      0  \n",
       "2       Dealer       Manual      0  \n",
       "3       Dealer       Manual      0  \n",
       "4       Dealer       Manual      0  "
      ]
     },
     "execution_count": 2,
     "metadata": {},
     "output_type": "execute_result"
    }
   ],
   "source": [
    "data=pd.read_csv('../input/car-price-predictionused-cars/car data.csv')\n",
    "data.head()"
   ]
  },
  {
   "cell_type": "code",
   "execution_count": 3,
   "id": "585b5a40",
   "metadata": {
    "execution": {
     "iopub.execute_input": "2023-10-28T20:22:52.485849Z",
     "iopub.status.busy": "2023-10-28T20:22:52.485065Z",
     "iopub.status.idle": "2023-10-28T20:22:52.491643Z",
     "shell.execute_reply": "2023-10-28T20:22:52.490816Z"
    },
    "papermill": {
     "duration": 0.020746,
     "end_time": "2023-10-28T20:22:52.493839",
     "exception": false,
     "start_time": "2023-10-28T20:22:52.473093",
     "status": "completed"
    },
    "tags": []
   },
   "outputs": [
    {
     "data": {
      "text/plain": [
       "(301, 9)"
      ]
     },
     "execution_count": 3,
     "metadata": {},
     "output_type": "execute_result"
    }
   ],
   "source": [
    "#shape of the data\n",
    "data.shape"
   ]
  },
  {
   "cell_type": "code",
   "execution_count": 4,
   "id": "b5b36776",
   "metadata": {
    "execution": {
     "iopub.execute_input": "2023-10-28T20:22:52.517350Z",
     "iopub.status.busy": "2023-10-28T20:22:52.516550Z",
     "iopub.status.idle": "2023-10-28T20:22:52.543781Z",
     "shell.execute_reply": "2023-10-28T20:22:52.542672Z"
    },
    "papermill": {
     "duration": 0.041603,
     "end_time": "2023-10-28T20:22:52.546095",
     "exception": false,
     "start_time": "2023-10-28T20:22:52.504492",
     "status": "completed"
    },
    "tags": []
   },
   "outputs": [
    {
     "name": "stdout",
     "output_type": "stream",
     "text": [
      "<class 'pandas.core.frame.DataFrame'>\n",
      "RangeIndex: 301 entries, 0 to 300\n",
      "Data columns (total 9 columns):\n",
      " #   Column         Non-Null Count  Dtype  \n",
      "---  ------         --------------  -----  \n",
      " 0   Car_Name       301 non-null    object \n",
      " 1   Year           301 non-null    int64  \n",
      " 2   Selling_Price  301 non-null    float64\n",
      " 3   Present_Price  301 non-null    float64\n",
      " 4   Driven_kms     301 non-null    int64  \n",
      " 5   Fuel_Type      301 non-null    object \n",
      " 6   Selling_type   301 non-null    object \n",
      " 7   Transmission   301 non-null    object \n",
      " 8   Owner          301 non-null    int64  \n",
      "dtypes: float64(2), int64(3), object(4)\n",
      "memory usage: 21.3+ KB\n"
     ]
    }
   ],
   "source": [
    "#check the information of the datasett\n",
    "data.info()"
   ]
  },
  {
   "cell_type": "code",
   "execution_count": 5,
   "id": "dad0c7b2",
   "metadata": {
    "execution": {
     "iopub.execute_input": "2023-10-28T20:22:52.570759Z",
     "iopub.status.busy": "2023-10-28T20:22:52.569979Z",
     "iopub.status.idle": "2023-10-28T20:22:52.678273Z",
     "shell.execute_reply": "2023-10-28T20:22:52.677166Z"
    },
    "papermill": {
     "duration": 0.123558,
     "end_time": "2023-10-28T20:22:52.680577",
     "exception": false,
     "start_time": "2023-10-28T20:22:52.557019",
     "status": "completed"
    },
    "tags": []
   },
   "outputs": [
    {
     "data": {
      "text/html": [
       "<style type=\"text/css\">\n",
       "#T_526b9_row0_col0 {\n",
       "  background-color: #0025ec;\n",
       "  color: #f1f1f1;\n",
       "}\n",
       "#T_526b9_row0_col1, #T_526b9_row0_col2, #T_526b9_row0_col4, #T_526b9_row1_col0, #T_526b9_row4_col0, #T_526b9_row5_col0, #T_526b9_row6_col0, #T_526b9_row7_col0, #T_526b9_row7_col3 {\n",
       "  background-color: #00ff80;\n",
       "  color: #000000;\n",
       "}\n",
       "#T_526b9_row0_col3, #T_526b9_row1_col4, #T_526b9_row2_col0, #T_526b9_row2_col4, #T_526b9_row3_col1, #T_526b9_row3_col2, #T_526b9_row3_col3, #T_526b9_row3_col4, #T_526b9_row4_col1, #T_526b9_row4_col2, #T_526b9_row4_col4, #T_526b9_row5_col4, #T_526b9_row6_col4 {\n",
       "  background-color: #0000ff;\n",
       "  color: #f1f1f1;\n",
       "}\n",
       "#T_526b9_row1_col1 {\n",
       "  background-color: #0003fe;\n",
       "  color: #f1f1f1;\n",
       "}\n",
       "#T_526b9_row1_col2 {\n",
       "  background-color: #0006fc;\n",
       "  color: #f1f1f1;\n",
       "}\n",
       "#T_526b9_row1_col3 {\n",
       "  background-color: #0012f6;\n",
       "  color: #f1f1f1;\n",
       "}\n",
       "#T_526b9_row2_col1 {\n",
       "  background-color: #0004fd;\n",
       "  color: #f1f1f1;\n",
       "}\n",
       "#T_526b9_row2_col2, #T_526b9_row4_col3 {\n",
       "  background-color: #0007fc;\n",
       "  color: #f1f1f1;\n",
       "}\n",
       "#T_526b9_row2_col3 {\n",
       "  background-color: #0013f6;\n",
       "  color: #f1f1f1;\n",
       "}\n",
       "#T_526b9_row3_col0 {\n",
       "  background-color: #00fe80;\n",
       "  color: #000000;\n",
       "}\n",
       "#T_526b9_row5_col1, #T_526b9_row7_col4 {\n",
       "  background-color: #0002fe;\n",
       "  color: #f1f1f1;\n",
       "}\n",
       "#T_526b9_row5_col2, #T_526b9_row6_col1 {\n",
       "  background-color: #0005fc;\n",
       "  color: #f1f1f1;\n",
       "}\n",
       "#T_526b9_row5_col3 {\n",
       "  background-color: #0010f7;\n",
       "  color: #f1f1f1;\n",
       "}\n",
       "#T_526b9_row6_col2 {\n",
       "  background-color: #0008fb;\n",
       "  color: #f1f1f1;\n",
       "}\n",
       "#T_526b9_row6_col3 {\n",
       "  background-color: #0018f3;\n",
       "  color: #f1f1f1;\n",
       "}\n",
       "#T_526b9_row7_col1 {\n",
       "  background-color: #001df0;\n",
       "  color: #f1f1f1;\n",
       "}\n",
       "#T_526b9_row7_col2 {\n",
       "  background-color: #004ed8;\n",
       "  color: #f1f1f1;\n",
       "}\n",
       "</style>\n",
       "<table id=\"T_526b9\">\n",
       "  <thead>\n",
       "    <tr>\n",
       "      <th class=\"blank level0\" >&nbsp;</th>\n",
       "      <th id=\"T_526b9_level0_col0\" class=\"col_heading level0 col0\" >Year</th>\n",
       "      <th id=\"T_526b9_level0_col1\" class=\"col_heading level0 col1\" >Selling_Price</th>\n",
       "      <th id=\"T_526b9_level0_col2\" class=\"col_heading level0 col2\" >Present_Price</th>\n",
       "      <th id=\"T_526b9_level0_col3\" class=\"col_heading level0 col3\" >Driven_kms</th>\n",
       "      <th id=\"T_526b9_level0_col4\" class=\"col_heading level0 col4\" >Owner</th>\n",
       "    </tr>\n",
       "  </thead>\n",
       "  <tbody>\n",
       "    <tr>\n",
       "      <th id=\"T_526b9_level0_row0\" class=\"row_heading level0 row0\" >count</th>\n",
       "      <td id=\"T_526b9_row0_col0\" class=\"data row0 col0\" >301.000000</td>\n",
       "      <td id=\"T_526b9_row0_col1\" class=\"data row0 col1\" >301.000000</td>\n",
       "      <td id=\"T_526b9_row0_col2\" class=\"data row0 col2\" >301.000000</td>\n",
       "      <td id=\"T_526b9_row0_col3\" class=\"data row0 col3\" >301.000000</td>\n",
       "      <td id=\"T_526b9_row0_col4\" class=\"data row0 col4\" >301.000000</td>\n",
       "    </tr>\n",
       "    <tr>\n",
       "      <th id=\"T_526b9_level0_row1\" class=\"row_heading level0 row1\" >mean</th>\n",
       "      <td id=\"T_526b9_row1_col0\" class=\"data row1 col0\" >2013.627907</td>\n",
       "      <td id=\"T_526b9_row1_col1\" class=\"data row1 col1\" >4.661296</td>\n",
       "      <td id=\"T_526b9_row1_col2\" class=\"data row1 col2\" >7.628472</td>\n",
       "      <td id=\"T_526b9_row1_col3\" class=\"data row1 col3\" >36947.205980</td>\n",
       "      <td id=\"T_526b9_row1_col4\" class=\"data row1 col4\" >0.043189</td>\n",
       "    </tr>\n",
       "    <tr>\n",
       "      <th id=\"T_526b9_level0_row2\" class=\"row_heading level0 row2\" >std</th>\n",
       "      <td id=\"T_526b9_row2_col0\" class=\"data row2 col0\" >2.891554</td>\n",
       "      <td id=\"T_526b9_row2_col1\" class=\"data row2 col1\" >5.082812</td>\n",
       "      <td id=\"T_526b9_row2_col2\" class=\"data row2 col2\" >8.642584</td>\n",
       "      <td id=\"T_526b9_row2_col3\" class=\"data row2 col3\" >38886.883882</td>\n",
       "      <td id=\"T_526b9_row2_col4\" class=\"data row2 col4\" >0.247915</td>\n",
       "    </tr>\n",
       "    <tr>\n",
       "      <th id=\"T_526b9_level0_row3\" class=\"row_heading level0 row3\" >min</th>\n",
       "      <td id=\"T_526b9_row3_col0\" class=\"data row3 col0\" >2003.000000</td>\n",
       "      <td id=\"T_526b9_row3_col1\" class=\"data row3 col1\" >0.100000</td>\n",
       "      <td id=\"T_526b9_row3_col2\" class=\"data row3 col2\" >0.320000</td>\n",
       "      <td id=\"T_526b9_row3_col3\" class=\"data row3 col3\" >500.000000</td>\n",
       "      <td id=\"T_526b9_row3_col4\" class=\"data row3 col4\" >0.000000</td>\n",
       "    </tr>\n",
       "    <tr>\n",
       "      <th id=\"T_526b9_level0_row4\" class=\"row_heading level0 row4\" >25%</th>\n",
       "      <td id=\"T_526b9_row4_col0\" class=\"data row4 col0\" >2012.000000</td>\n",
       "      <td id=\"T_526b9_row4_col1\" class=\"data row4 col1\" >0.900000</td>\n",
       "      <td id=\"T_526b9_row4_col2\" class=\"data row4 col2\" >1.200000</td>\n",
       "      <td id=\"T_526b9_row4_col3\" class=\"data row4 col3\" >15000.000000</td>\n",
       "      <td id=\"T_526b9_row4_col4\" class=\"data row4 col4\" >0.000000</td>\n",
       "    </tr>\n",
       "    <tr>\n",
       "      <th id=\"T_526b9_level0_row5\" class=\"row_heading level0 row5\" >50%</th>\n",
       "      <td id=\"T_526b9_row5_col0\" class=\"data row5 col0\" >2014.000000</td>\n",
       "      <td id=\"T_526b9_row5_col1\" class=\"data row5 col1\" >3.600000</td>\n",
       "      <td id=\"T_526b9_row5_col2\" class=\"data row5 col2\" >6.400000</td>\n",
       "      <td id=\"T_526b9_row5_col3\" class=\"data row5 col3\" >32000.000000</td>\n",
       "      <td id=\"T_526b9_row5_col4\" class=\"data row5 col4\" >0.000000</td>\n",
       "    </tr>\n",
       "    <tr>\n",
       "      <th id=\"T_526b9_level0_row6\" class=\"row_heading level0 row6\" >75%</th>\n",
       "      <td id=\"T_526b9_row6_col0\" class=\"data row6 col0\" >2016.000000</td>\n",
       "      <td id=\"T_526b9_row6_col1\" class=\"data row6 col1\" >6.000000</td>\n",
       "      <td id=\"T_526b9_row6_col2\" class=\"data row6 col2\" >9.900000</td>\n",
       "      <td id=\"T_526b9_row6_col3\" class=\"data row6 col3\" >48767.000000</td>\n",
       "      <td id=\"T_526b9_row6_col4\" class=\"data row6 col4\" >0.000000</td>\n",
       "    </tr>\n",
       "    <tr>\n",
       "      <th id=\"T_526b9_level0_row7\" class=\"row_heading level0 row7\" >max</th>\n",
       "      <td id=\"T_526b9_row7_col0\" class=\"data row7 col0\" >2018.000000</td>\n",
       "      <td id=\"T_526b9_row7_col1\" class=\"data row7 col1\" >35.000000</td>\n",
       "      <td id=\"T_526b9_row7_col2\" class=\"data row7 col2\" >92.600000</td>\n",
       "      <td id=\"T_526b9_row7_col3\" class=\"data row7 col3\" >500000.000000</td>\n",
       "      <td id=\"T_526b9_row7_col4\" class=\"data row7 col4\" >3.000000</td>\n",
       "    </tr>\n",
       "  </tbody>\n",
       "</table>\n"
      ],
      "text/plain": [
       "<pandas.io.formats.style.Styler at 0x7bb526d6be20>"
      ]
     },
     "execution_count": 5,
     "metadata": {},
     "output_type": "execute_result"
    }
   ],
   "source": [
    "#Describe function\n",
    "data.describe().style.background_gradient(cmap='winter')"
   ]
  },
  {
   "cell_type": "markdown",
   "id": "7dff9ed9",
   "metadata": {
    "papermill": {
     "duration": 0.011484,
     "end_time": "2023-10-28T20:22:52.703003",
     "exception": false,
     "start_time": "2023-10-28T20:22:52.691519",
     "status": "completed"
    },
    "tags": []
   },
   "source": [
    "**Corelation matrix**"
   ]
  },
  {
   "cell_type": "code",
   "execution_count": 6,
   "id": "a9b9e0ab",
   "metadata": {
    "execution": {
     "iopub.execute_input": "2023-10-28T20:22:52.726847Z",
     "iopub.status.busy": "2023-10-28T20:22:52.726317Z",
     "iopub.status.idle": "2023-10-28T20:22:53.863363Z",
     "shell.execute_reply": "2023-10-28T20:22:53.861593Z"
    },
    "papermill": {
     "duration": 1.151157,
     "end_time": "2023-10-28T20:22:53.865143",
     "exception": true,
     "start_time": "2023-10-28T20:22:52.713986",
     "status": "failed"
    },
    "tags": []
   },
   "outputs": [
    {
     "ename": "ValueError",
     "evalue": "could not convert string to float: 'ritz'",
     "output_type": "error",
     "traceback": [
      "\u001b[0;31m---------------------------------------------------------------------------\u001b[0m",
      "\u001b[0;31mValueError\u001b[0m                                Traceback (most recent call last)",
      "Cell \u001b[0;32mIn[6], line 1\u001b[0m\n\u001b[0;32m----> 1\u001b[0m corr\u001b[38;5;241m=\u001b[39m\u001b[43mdata\u001b[49m\u001b[38;5;241;43m.\u001b[39;49m\u001b[43mcorr\u001b[49m\u001b[43m(\u001b[49m\u001b[43m)\u001b[49m\u001b[38;5;241m.\u001b[39mstyle\u001b[38;5;241m.\u001b[39mbackground_gradient(cmap\u001b[38;5;241m=\u001b[39m\u001b[38;5;124m'\u001b[39m\u001b[38;5;124mgray\u001b[39m\u001b[38;5;124m'\u001b[39m)\n\u001b[1;32m      2\u001b[0m corr\n",
      "File \u001b[0;32m/opt/conda/lib/python3.10/site-packages/pandas/core/frame.py:10054\u001b[0m, in \u001b[0;36mDataFrame.corr\u001b[0;34m(self, method, min_periods, numeric_only)\u001b[0m\n\u001b[1;32m  10052\u001b[0m cols \u001b[38;5;241m=\u001b[39m data\u001b[38;5;241m.\u001b[39mcolumns\n\u001b[1;32m  10053\u001b[0m idx \u001b[38;5;241m=\u001b[39m cols\u001b[38;5;241m.\u001b[39mcopy()\n\u001b[0;32m> 10054\u001b[0m mat \u001b[38;5;241m=\u001b[39m \u001b[43mdata\u001b[49m\u001b[38;5;241;43m.\u001b[39;49m\u001b[43mto_numpy\u001b[49m\u001b[43m(\u001b[49m\u001b[43mdtype\u001b[49m\u001b[38;5;241;43m=\u001b[39;49m\u001b[38;5;28;43mfloat\u001b[39;49m\u001b[43m,\u001b[49m\u001b[43m \u001b[49m\u001b[43mna_value\u001b[49m\u001b[38;5;241;43m=\u001b[39;49m\u001b[43mnp\u001b[49m\u001b[38;5;241;43m.\u001b[39;49m\u001b[43mnan\u001b[49m\u001b[43m,\u001b[49m\u001b[43m \u001b[49m\u001b[43mcopy\u001b[49m\u001b[38;5;241;43m=\u001b[39;49m\u001b[38;5;28;43;01mFalse\u001b[39;49;00m\u001b[43m)\u001b[49m\n\u001b[1;32m  10056\u001b[0m \u001b[38;5;28;01mif\u001b[39;00m method \u001b[38;5;241m==\u001b[39m \u001b[38;5;124m\"\u001b[39m\u001b[38;5;124mpearson\u001b[39m\u001b[38;5;124m\"\u001b[39m:\n\u001b[1;32m  10057\u001b[0m     correl \u001b[38;5;241m=\u001b[39m libalgos\u001b[38;5;241m.\u001b[39mnancorr(mat, minp\u001b[38;5;241m=\u001b[39mmin_periods)\n",
      "File \u001b[0;32m/opt/conda/lib/python3.10/site-packages/pandas/core/frame.py:1838\u001b[0m, in \u001b[0;36mDataFrame.to_numpy\u001b[0;34m(self, dtype, copy, na_value)\u001b[0m\n\u001b[1;32m   1836\u001b[0m \u001b[38;5;28;01mif\u001b[39;00m dtype \u001b[38;5;129;01mis\u001b[39;00m \u001b[38;5;129;01mnot\u001b[39;00m \u001b[38;5;28;01mNone\u001b[39;00m:\n\u001b[1;32m   1837\u001b[0m     dtype \u001b[38;5;241m=\u001b[39m np\u001b[38;5;241m.\u001b[39mdtype(dtype)\n\u001b[0;32m-> 1838\u001b[0m result \u001b[38;5;241m=\u001b[39m \u001b[38;5;28;43mself\u001b[39;49m\u001b[38;5;241;43m.\u001b[39;49m\u001b[43m_mgr\u001b[49m\u001b[38;5;241;43m.\u001b[39;49m\u001b[43mas_array\u001b[49m\u001b[43m(\u001b[49m\u001b[43mdtype\u001b[49m\u001b[38;5;241;43m=\u001b[39;49m\u001b[43mdtype\u001b[49m\u001b[43m,\u001b[49m\u001b[43m \u001b[49m\u001b[43mcopy\u001b[49m\u001b[38;5;241;43m=\u001b[39;49m\u001b[43mcopy\u001b[49m\u001b[43m,\u001b[49m\u001b[43m \u001b[49m\u001b[43mna_value\u001b[49m\u001b[38;5;241;43m=\u001b[39;49m\u001b[43mna_value\u001b[49m\u001b[43m)\u001b[49m\n\u001b[1;32m   1839\u001b[0m \u001b[38;5;28;01mif\u001b[39;00m result\u001b[38;5;241m.\u001b[39mdtype \u001b[38;5;129;01mis\u001b[39;00m \u001b[38;5;129;01mnot\u001b[39;00m dtype:\n\u001b[1;32m   1840\u001b[0m     result \u001b[38;5;241m=\u001b[39m np\u001b[38;5;241m.\u001b[39marray(result, dtype\u001b[38;5;241m=\u001b[39mdtype, copy\u001b[38;5;241m=\u001b[39m\u001b[38;5;28;01mFalse\u001b[39;00m)\n",
      "File \u001b[0;32m/opt/conda/lib/python3.10/site-packages/pandas/core/internals/managers.py:1732\u001b[0m, in \u001b[0;36mBlockManager.as_array\u001b[0;34m(self, dtype, copy, na_value)\u001b[0m\n\u001b[1;32m   1730\u001b[0m         arr\u001b[38;5;241m.\u001b[39mflags\u001b[38;5;241m.\u001b[39mwriteable \u001b[38;5;241m=\u001b[39m \u001b[38;5;28;01mFalse\u001b[39;00m\n\u001b[1;32m   1731\u001b[0m \u001b[38;5;28;01melse\u001b[39;00m:\n\u001b[0;32m-> 1732\u001b[0m     arr \u001b[38;5;241m=\u001b[39m \u001b[38;5;28;43mself\u001b[39;49m\u001b[38;5;241;43m.\u001b[39;49m\u001b[43m_interleave\u001b[49m\u001b[43m(\u001b[49m\u001b[43mdtype\u001b[49m\u001b[38;5;241;43m=\u001b[39;49m\u001b[43mdtype\u001b[49m\u001b[43m,\u001b[49m\u001b[43m \u001b[49m\u001b[43mna_value\u001b[49m\u001b[38;5;241;43m=\u001b[39;49m\u001b[43mna_value\u001b[49m\u001b[43m)\u001b[49m\n\u001b[1;32m   1733\u001b[0m     \u001b[38;5;66;03m# The underlying data was copied within _interleave, so no need\u001b[39;00m\n\u001b[1;32m   1734\u001b[0m     \u001b[38;5;66;03m# to further copy if copy=True or setting na_value\u001b[39;00m\n\u001b[1;32m   1736\u001b[0m \u001b[38;5;28;01mif\u001b[39;00m na_value \u001b[38;5;129;01mis\u001b[39;00m \u001b[38;5;129;01mnot\u001b[39;00m lib\u001b[38;5;241m.\u001b[39mno_default:\n",
      "File \u001b[0;32m/opt/conda/lib/python3.10/site-packages/pandas/core/internals/managers.py:1794\u001b[0m, in \u001b[0;36mBlockManager._interleave\u001b[0;34m(self, dtype, na_value)\u001b[0m\n\u001b[1;32m   1792\u001b[0m     \u001b[38;5;28;01melse\u001b[39;00m:\n\u001b[1;32m   1793\u001b[0m         arr \u001b[38;5;241m=\u001b[39m blk\u001b[38;5;241m.\u001b[39mget_values(dtype)\n\u001b[0;32m-> 1794\u001b[0m     \u001b[43mresult\u001b[49m\u001b[43m[\u001b[49m\u001b[43mrl\u001b[49m\u001b[38;5;241;43m.\u001b[39;49m\u001b[43mindexer\u001b[49m\u001b[43m]\u001b[49m \u001b[38;5;241m=\u001b[39m arr\n\u001b[1;32m   1795\u001b[0m     itemmask[rl\u001b[38;5;241m.\u001b[39mindexer] \u001b[38;5;241m=\u001b[39m \u001b[38;5;241m1\u001b[39m\n\u001b[1;32m   1797\u001b[0m \u001b[38;5;28;01mif\u001b[39;00m \u001b[38;5;129;01mnot\u001b[39;00m itemmask\u001b[38;5;241m.\u001b[39mall():\n",
      "\u001b[0;31mValueError\u001b[0m: could not convert string to float: 'ritz'"
     ]
    }
   ],
   "source": [
    "corr=data.corr().style.background_gradient(cmap='gray')\n",
    "corr"
   ]
  },
  {
   "cell_type": "code",
   "execution_count": null,
   "id": "1f5f3327",
   "metadata": {
    "execution": {
     "iopub.execute_input": "2022-09-27T14:46:16.197960Z",
     "iopub.status.busy": "2022-09-27T14:46:16.196787Z",
     "iopub.status.idle": "2022-09-27T14:46:16.703152Z",
     "shell.execute_reply": "2022-09-27T14:46:16.701654Z",
     "shell.execute_reply.started": "2022-09-27T14:46:16.197909Z"
    },
    "papermill": {
     "duration": null,
     "end_time": null,
     "exception": null,
     "start_time": null,
     "status": "pending"
    },
    "tags": []
   },
   "outputs": [],
   "source": [
    "#Let's visualize the correlation matrix iin the seaborn\n",
    "sns.set(rc={'figure.figsize':(15,10)})\n",
    "sns.heatmap(data.corr(),annot=True,cmap='rainbow')"
   ]
  },
  {
   "cell_type": "code",
   "execution_count": null,
   "id": "3c4997b4",
   "metadata": {
    "execution": {
     "iopub.execute_input": "2022-09-27T14:46:16.705543Z",
     "iopub.status.busy": "2022-09-27T14:46:16.704812Z",
     "iopub.status.idle": "2022-09-27T14:46:16.717163Z",
     "shell.execute_reply": "2022-09-27T14:46:16.714698Z",
     "shell.execute_reply.started": "2022-09-27T14:46:16.705495Z"
    },
    "papermill": {
     "duration": null,
     "end_time": null,
     "exception": null,
     "start_time": null,
     "status": "pending"
    },
    "tags": []
   },
   "outputs": [],
   "source": [
    "#data columns\n",
    "data.columns"
   ]
  },
  {
   "cell_type": "markdown",
   "id": "4ea7427e",
   "metadata": {
    "papermill": {
     "duration": null,
     "end_time": null,
     "exception": null,
     "start_time": null,
     "status": "pending"
    },
    "tags": []
   },
   "source": [
    "**Explore Data analysis (EDA)**"
   ]
  },
  {
   "cell_type": "code",
   "execution_count": null,
   "id": "b969e84e",
   "metadata": {
    "execution": {
     "iopub.execute_input": "2022-09-27T14:46:16.721206Z",
     "iopub.status.busy": "2022-09-27T14:46:16.720036Z",
     "iopub.status.idle": "2022-09-27T14:46:17.116887Z",
     "shell.execute_reply": "2022-09-27T14:46:17.113605Z",
     "shell.execute_reply.started": "2022-09-27T14:46:16.721155Z"
    },
    "papermill": {
     "duration": null,
     "end_time": null,
     "exception": null,
     "start_time": null,
     "status": "pending"
    },
    "tags": []
   },
   "outputs": [],
   "source": [
    "#Let's visualize the car names in the dataset\n",
    "car_names=data['Car_Name'].value_counts()\n",
    "#To visualize the top 20 car's sold\n",
    "label=['city','corolla altis','verna','fortuner','brio','ciaz','innova','i20','grand i10','jazz','amaze','Royal Enfield Classic 350','ertiga','eon','sx4','alto k10','i10','swift','Bajaj Pulsar 150','Royal Enfield Thunder 350']\n",
    "plt.figure(figsize=(16,9))\n",
    "plt.pie(car_names[:20],labels=label, autopct='%1.2f%%')\n",
    "plt.title(\"To visualize the top 20 cars sold\",fontsize=32,fontweight='bold')\n",
    "plt.show()"
   ]
  },
  {
   "cell_type": "code",
   "execution_count": null,
   "id": "ea978616",
   "metadata": {
    "execution": {
     "iopub.execute_input": "2022-09-27T14:46:17.126570Z",
     "iopub.status.busy": "2022-09-27T14:46:17.126040Z",
     "iopub.status.idle": "2022-09-27T14:46:17.493527Z",
     "shell.execute_reply": "2022-09-27T14:46:17.492178Z",
     "shell.execute_reply.started": "2022-09-27T14:46:17.126523Z"
    },
    "papermill": {
     "duration": null,
     "end_time": null,
     "exception": null,
     "start_time": null,
     "status": "pending"
    },
    "tags": []
   },
   "outputs": [],
   "source": [
    "#To visualize the year in the dataset\n",
    "year=data['Year'].value_counts()\n",
    "#to visualize the year in the seaborn barplot\n",
    "ax=plt.axes()\n",
    "#set the background color\n",
    "ax.set(facecolor='yellow')\n",
    "#set the figures size \n",
    "sns.set(rc={'figure.figsize':(16,8)},style='darkgrid')\n",
    "#set the title of the plot\n",
    "ax.set_title(\"To visualize the which year most car sold\",fontsize=32,fontweight=900)\n",
    "#let's visualize the barplot\n",
    "sns.barplot(x=year.index,y=year,palette='rainbow')\n",
    "#on the x axis\n",
    "plt.xlabel(\"Year\")\n",
    "#on the y_axis\n",
    "plt.ylabel(\"Count\")\n",
    "#let's visualize the image\n",
    "plt.show()\n"
   ]
  },
  {
   "cell_type": "code",
   "execution_count": null,
   "id": "90c6b98a",
   "metadata": {
    "execution": {
     "iopub.execute_input": "2022-09-27T14:46:17.496068Z",
     "iopub.status.busy": "2022-09-27T14:46:17.495605Z",
     "iopub.status.idle": "2022-09-27T14:46:17.705912Z",
     "shell.execute_reply": "2022-09-27T14:46:17.701298Z",
     "shell.execute_reply.started": "2022-09-27T14:46:17.496021Z"
    },
    "papermill": {
     "duration": null,
     "end_time": null,
     "exception": null,
     "start_time": null,
     "status": "pending"
    },
    "tags": []
   },
   "outputs": [],
   "source": [
    "#Let's visualize the car names in the dataset\n",
    "fuel_type=data['Fuel_Type'].value_counts()\n",
    "#To visualize the top 20 car's sold\n",
    "label=['Petrol','Diesel','CNG']\n",
    "plt.figure(figsize=(16,9))\n",
    "plt.pie(fuel_type,labels=label, autopct='%1.2f%%',explode=[0.03,0.05,0.07],colors=['green','yellow','orange'])\n",
    "plt.title(\"To visualize the fuel_type in the dataset\",fontsize=32,fontweight='bold')\n",
    "plt.show()"
   ]
  },
  {
   "cell_type": "code",
   "execution_count": null,
   "id": "e6fc7279",
   "metadata": {
    "execution": {
     "iopub.execute_input": "2022-09-27T14:46:17.708440Z",
     "iopub.status.busy": "2022-09-27T14:46:17.707775Z",
     "iopub.status.idle": "2022-09-27T14:46:17.956673Z",
     "shell.execute_reply": "2022-09-27T14:46:17.955492Z",
     "shell.execute_reply.started": "2022-09-27T14:46:17.708390Z"
    },
    "papermill": {
     "duration": null,
     "end_time": null,
     "exception": null,
     "start_time": null,
     "status": "pending"
    },
    "tags": []
   },
   "outputs": [],
   "source": [
    "#to visualize the year in the seaborn countplot\n",
    "ax=plt.axes()\n",
    "#set the background color\n",
    "ax.set(facecolor='red')\n",
    "#set the figures size \n",
    "sns.set(rc={'figure.figsize':(8,6)},style='darkgrid')\n",
    "#set the title of the plot\n",
    "ax.set_title(\"To visualize the Selling_type\",fontsize=32,fontweight=900)\n",
    "#let's visualize the barplot\n",
    "sns.countplot(data['Selling_type'],palette='rainbow')\n",
    "#on the x axis\n",
    "plt.xlabel(\"Selling_type\")\n",
    "#on the y_axis\n",
    "plt.ylabel(\"Count\")\n",
    "#let's visualize the image\n",
    "plt.show()"
   ]
  },
  {
   "cell_type": "code",
   "execution_count": null,
   "id": "e1984c1f",
   "metadata": {
    "execution": {
     "iopub.execute_input": "2022-09-27T14:46:17.958853Z",
     "iopub.status.busy": "2022-09-27T14:46:17.958057Z",
     "iopub.status.idle": "2022-09-27T14:46:18.360271Z",
     "shell.execute_reply": "2022-09-27T14:46:18.359331Z",
     "shell.execute_reply.started": "2022-09-27T14:46:17.958804Z"
    },
    "papermill": {
     "duration": null,
     "end_time": null,
     "exception": null,
     "start_time": null,
     "status": "pending"
    },
    "tags": []
   },
   "outputs": [],
   "source": [
    "from scipy.stats import norm\n",
    "#Visualize the distplot\n",
    "sns.set(rc={'figure.figsize':(16,5)})\n",
    "#to visualize the Selling_Price in the dataset\n",
    "sns.distplot(data['Selling_Price'],fit=norm,kde=False,color='gray')"
   ]
  },
  {
   "cell_type": "code",
   "execution_count": null,
   "id": "14c5bae7",
   "metadata": {
    "execution": {
     "iopub.execute_input": "2022-09-27T14:46:18.363890Z",
     "iopub.status.busy": "2022-09-27T14:46:18.363399Z",
     "iopub.status.idle": "2022-09-27T14:46:18.763139Z",
     "shell.execute_reply": "2022-09-27T14:46:18.761857Z",
     "shell.execute_reply.started": "2022-09-27T14:46:18.363841Z"
    },
    "papermill": {
     "duration": null,
     "end_time": null,
     "exception": null,
     "start_time": null,
     "status": "pending"
    },
    "tags": []
   },
   "outputs": [],
   "source": [
    "#Visualize the distplot\n",
    "sns.set(rc={'figure.figsize':(16,5)})\n",
    "#to visualize the Present_Price in the dataset\n",
    "sns.distplot(data['Present_Price'],fit=norm,kde=False,color='blue')"
   ]
  },
  {
   "cell_type": "code",
   "execution_count": null,
   "id": "4ecfef26",
   "metadata": {
    "execution": {
     "iopub.execute_input": "2022-09-27T14:46:18.764433Z",
     "iopub.status.busy": "2022-09-27T14:46:18.764141Z",
     "iopub.status.idle": "2022-09-27T14:46:21.199790Z",
     "shell.execute_reply": "2022-09-27T14:46:21.198585Z",
     "shell.execute_reply.started": "2022-09-27T14:46:18.764406Z"
    },
    "papermill": {
     "duration": null,
     "end_time": null,
     "exception": null,
     "start_time": null,
     "status": "pending"
    },
    "tags": []
   },
   "outputs": [],
   "source": [
    "#Let's check the car model wiht selling price\n",
    "car_selling_price=data[['Car_Name','Selling_Price']].groupby(['Car_Name','Selling_Price']).sum().reset_index().sort_values(by='Selling_Price',ascending=False)\n",
    "import plotly.express as px\n",
    "fig=px.histogram(car_selling_price,x='Car_Name',y='Selling_Price',title=\"To visualize the car model with selling price\")\n",
    "fig.update_layout(bargap=0.2,bargroupgap=0.1,\n",
    "    plot_bgcolor='black')\n",
    "\n",
    "fig.show()"
   ]
  },
  {
   "cell_type": "code",
   "execution_count": null,
   "id": "0d78c8ae",
   "metadata": {
    "execution": {
     "iopub.execute_input": "2022-09-27T14:46:21.201590Z",
     "iopub.status.busy": "2022-09-27T14:46:21.201253Z",
     "iopub.status.idle": "2022-09-27T14:46:21.279546Z",
     "shell.execute_reply": "2022-09-27T14:46:21.278373Z",
     "shell.execute_reply.started": "2022-09-27T14:46:21.201559Z"
    },
    "papermill": {
     "duration": null,
     "end_time": null,
     "exception": null,
     "start_time": null,
     "status": "pending"
    },
    "tags": []
   },
   "outputs": [],
   "source": [
    "#Let's visualize the scatter plot\n",
    "fig=px.scatter(data,y='Selling_Price',x='Present_Price')\n",
    "fig.update_layout(bargap=0.2,bargroupgap=0.1,\n",
    "    plot_bgcolor='yellow')\n",
    "fig.show()"
   ]
  },
  {
   "cell_type": "code",
   "execution_count": null,
   "id": "b5e8f460",
   "metadata": {
    "execution": {
     "iopub.execute_input": "2022-09-27T14:46:21.281397Z",
     "iopub.status.busy": "2022-09-27T14:46:21.281041Z",
     "iopub.status.idle": "2022-09-27T14:46:26.699271Z",
     "shell.execute_reply": "2022-09-27T14:46:26.698301Z",
     "shell.execute_reply.started": "2022-09-27T14:46:21.281366Z"
    },
    "papermill": {
     "duration": null,
     "end_time": null,
     "exception": null,
     "start_time": null,
     "status": "pending"
    },
    "tags": []
   },
   "outputs": [],
   "source": [
    "# Draw a vertical boxplot grouped \n",
    "# by a categorical variable:\n",
    "sns.set_style(\"whitegrid\")\n",
    "sns.boxplot(x = 'Present_Price', y = 'Selling_Price', data = data)"
   ]
  },
  {
   "cell_type": "code",
   "execution_count": null,
   "id": "a33d6750",
   "metadata": {
    "execution": {
     "iopub.execute_input": "2022-09-27T14:46:26.701329Z",
     "iopub.status.busy": "2022-09-27T14:46:26.700703Z",
     "iopub.status.idle": "2022-09-27T14:46:31.365979Z",
     "shell.execute_reply": "2022-09-27T14:46:31.364736Z",
     "shell.execute_reply.started": "2022-09-27T14:46:26.701293Z"
    },
    "papermill": {
     "duration": null,
     "end_time": null,
     "exception": null,
     "start_time": null,
     "status": "pending"
    },
    "tags": []
   },
   "outputs": [],
   "source": [
    "# Draw a vertical boxplot grouped \n",
    "# by a categorical variable:\n",
    "sns.set_style(\"whitegrid\")\n",
    "sns.boxplot(x ='Car_Name',y ='Selling_Price', data = data)"
   ]
  },
  {
   "cell_type": "code",
   "execution_count": null,
   "id": "169b5d04",
   "metadata": {
    "execution": {
     "iopub.execute_input": "2022-09-27T14:46:31.367925Z",
     "iopub.status.busy": "2022-09-27T14:46:31.367500Z",
     "iopub.status.idle": "2022-09-27T14:46:31.619253Z",
     "shell.execute_reply": "2022-09-27T14:46:31.618003Z",
     "shell.execute_reply.started": "2022-09-27T14:46:31.367884Z"
    },
    "papermill": {
     "duration": null,
     "end_time": null,
     "exception": null,
     "start_time": null,
     "status": "pending"
    },
    "tags": []
   },
   "outputs": [],
   "source": [
    "# Draw a vertical boxplot grouped \n",
    "# by a categorical variable:\n",
    "sns.set_style(\"whitegrid\")\n",
    "sns.boxplot(y = 'Present_Price', x = 'Fuel_Type', data = data)"
   ]
  },
  {
   "cell_type": "code",
   "execution_count": null,
   "id": "444e6ff3",
   "metadata": {
    "execution": {
     "iopub.execute_input": "2022-09-27T14:46:31.620764Z",
     "iopub.status.busy": "2022-09-27T14:46:31.620456Z",
     "iopub.status.idle": "2022-09-27T14:46:31.863576Z",
     "shell.execute_reply": "2022-09-27T14:46:31.862261Z",
     "shell.execute_reply.started": "2022-09-27T14:46:31.620736Z"
    },
    "papermill": {
     "duration": null,
     "end_time": null,
     "exception": null,
     "start_time": null,
     "status": "pending"
    },
    "tags": []
   },
   "outputs": [],
   "source": [
    "# Draw a vertical boxplot grouped \n",
    "# by a categorical variable:\n",
    "sns.set_style(\"whitegrid\")\n",
    "sns.boxplot(y ='Present_Price', x = 'Selling_type', data = data)"
   ]
  },
  {
   "cell_type": "code",
   "execution_count": null,
   "id": "08aad92b",
   "metadata": {
    "execution": {
     "iopub.execute_input": "2022-09-27T14:46:59.744607Z",
     "iopub.status.busy": "2022-09-27T14:46:59.744198Z",
     "iopub.status.idle": "2022-09-27T14:46:59.995830Z",
     "shell.execute_reply": "2022-09-27T14:46:59.994399Z",
     "shell.execute_reply.started": "2022-09-27T14:46:59.744573Z"
    },
    "papermill": {
     "duration": null,
     "end_time": null,
     "exception": null,
     "start_time": null,
     "status": "pending"
    },
    "tags": []
   },
   "outputs": [],
   "source": [
    "# Draw a vertical boxplot grouped \n",
    "# by a categorical variable:\n",
    "sns.set_style(\"whitegrid\")\n",
    "sns.boxplot(y ='Selling_Price', x = 'Transmission', data = data)"
   ]
  },
  {
   "cell_type": "markdown",
   "id": "be2baf28",
   "metadata": {
    "papermill": {
     "duration": null,
     "end_time": null,
     "exception": null,
     "start_time": null,
     "status": "pending"
    },
    "tags": []
   },
   "source": [
    "# **Model buliding**"
   ]
  },
  {
   "cell_type": "markdown",
   "id": "96f3f213",
   "metadata": {
    "papermill": {
     "duration": null,
     "end_time": null,
     "exception": null,
     "start_time": null,
     "status": "pending"
    },
    "tags": []
   },
   "source": [
    "#  **Labelencoder**"
   ]
  },
  {
   "cell_type": "code",
   "execution_count": null,
   "id": "3df15031",
   "metadata": {
    "execution": {
     "iopub.execute_input": "2022-09-27T14:47:07.280773Z",
     "iopub.status.busy": "2022-09-27T14:47:07.280388Z",
     "iopub.status.idle": "2022-09-27T14:47:07.290281Z",
     "shell.execute_reply": "2022-09-27T14:47:07.288877Z",
     "shell.execute_reply.started": "2022-09-27T14:47:07.280743Z"
    },
    "papermill": {
     "duration": null,
     "end_time": null,
     "exception": null,
     "start_time": null,
     "status": "pending"
    },
    "tags": []
   },
   "outputs": [],
   "source": [
    "#Let's import the labelencoder covert the categorical data to numerical\n",
    "from sklearn.preprocessing import LabelEncoder,StandardScaler\n",
    "label=LabelEncoder()\n",
    "data['Car_Name']=label.fit_transform(data['Car_Name'])\n",
    "data['Fuel_Type']=label.fit_transform(data['Fuel_Type'])\n",
    "data['Selling_type']=label.fit_transform(data['Selling_type'])\n",
    "data['Transmission']=label.fit_transform(data['Transmission'])"
   ]
  },
  {
   "cell_type": "code",
   "execution_count": null,
   "id": "63a63c76",
   "metadata": {
    "execution": {
     "iopub.execute_input": "2022-09-27T14:47:07.714301Z",
     "iopub.status.busy": "2022-09-27T14:47:07.713891Z",
     "iopub.status.idle": "2022-09-27T14:47:07.722891Z",
     "shell.execute_reply": "2022-09-27T14:47:07.721573Z",
     "shell.execute_reply.started": "2022-09-27T14:47:07.714269Z"
    },
    "papermill": {
     "duration": null,
     "end_time": null,
     "exception": null,
     "start_time": null,
     "status": "pending"
    },
    "tags": []
   },
   "outputs": [],
   "source": [
    "#Let's divided the data into input into target\n",
    "X=data.drop(['Selling_Price'],axis=1)\n",
    "y=data['Selling_Price']"
   ]
  },
  {
   "cell_type": "code",
   "execution_count": null,
   "id": "85e8f93d",
   "metadata": {
    "execution": {
     "iopub.execute_input": "2022-09-27T14:47:08.127248Z",
     "iopub.status.busy": "2022-09-27T14:47:08.126534Z",
     "iopub.status.idle": "2022-09-27T14:47:08.135894Z",
     "shell.execute_reply": "2022-09-27T14:47:08.134900Z",
     "shell.execute_reply.started": "2022-09-27T14:47:08.127211Z"
    },
    "papermill": {
     "duration": null,
     "end_time": null,
     "exception": null,
     "start_time": null,
     "status": "pending"
    },
    "tags": []
   },
   "outputs": [],
   "source": [
    "#normalize the data\n",
    "scaler=StandardScaler()\n",
    "#Let's normalize the train dataset\n",
    "X=scaler.fit_transform(X)"
   ]
  },
  {
   "cell_type": "code",
   "execution_count": null,
   "id": "d08d5105",
   "metadata": {
    "execution": {
     "iopub.execute_input": "2022-09-27T14:47:08.538664Z",
     "iopub.status.busy": "2022-09-27T14:47:08.538245Z",
     "iopub.status.idle": "2022-09-27T14:47:08.545506Z",
     "shell.execute_reply": "2022-09-27T14:47:08.544289Z",
     "shell.execute_reply.started": "2022-09-27T14:47:08.538631Z"
    },
    "papermill": {
     "duration": null,
     "end_time": null,
     "exception": null,
     "start_time": null,
     "status": "pending"
    },
    "tags": []
   },
   "outputs": [],
   "source": [
    "#divided the data into train and test\n",
    "X_train,X_test,y_train,y_test=train_test_split(X,y,test_size=0.25,random_state=42)"
   ]
  },
  {
   "cell_type": "markdown",
   "id": "12d01ab5",
   "metadata": {
    "papermill": {
     "duration": null,
     "end_time": null,
     "exception": null,
     "start_time": null,
     "status": "pending"
    },
    "tags": []
   },
   "source": [
    "# LinearRegression"
   ]
  },
  {
   "cell_type": "code",
   "execution_count": null,
   "id": "be337f04",
   "metadata": {
    "execution": {
     "iopub.execute_input": "2022-09-27T14:47:09.391073Z",
     "iopub.status.busy": "2022-09-27T14:47:09.390648Z",
     "iopub.status.idle": "2022-09-27T14:47:09.408655Z",
     "shell.execute_reply": "2022-09-27T14:47:09.407198Z",
     "shell.execute_reply.started": "2022-09-27T14:47:09.391037Z"
    },
    "papermill": {
     "duration": null,
     "end_time": null,
     "exception": null,
     "start_time": null,
     "status": "pending"
    },
    "tags": []
   },
   "outputs": [],
   "source": [
    "#Install the Linear regression model\n",
    "linear=LinearRegression()\n",
    "#let's fi the train data\n",
    "linear.fit(X_train,y_train)\n",
    "#Prediction of the test data\n",
    "linear_pred=linear.predict(X_test)"
   ]
  },
  {
   "cell_type": "code",
   "execution_count": null,
   "id": "3c881934",
   "metadata": {
    "execution": {
     "iopub.execute_input": "2022-09-27T14:47:09.800554Z",
     "iopub.status.busy": "2022-09-27T14:47:09.799814Z",
     "iopub.status.idle": "2022-09-27T14:47:09.807107Z",
     "shell.execute_reply": "2022-09-27T14:47:09.806295Z",
     "shell.execute_reply.started": "2022-09-27T14:47:09.800512Z"
    },
    "papermill": {
     "duration": null,
     "end_time": null,
     "exception": null,
     "start_time": null,
     "status": "pending"
    },
    "tags": []
   },
   "outputs": [],
   "source": [
    "#Check the test score and train score to the LinearRegression algorithm\n",
    "print(f'The Test_accuracy: {linear.score(X_test,y_test)*100:.2f}')\n",
    "#Train score for the data\n",
    "print(f'The Train_accuracy: {linear.score(X_train,y_train)*100:.2f}')"
   ]
  },
  {
   "cell_type": "code",
   "execution_count": null,
   "id": "b1e9745a",
   "metadata": {
    "execution": {
     "iopub.execute_input": "2022-09-27T14:47:10.223362Z",
     "iopub.status.busy": "2022-09-27T14:47:10.222953Z",
     "iopub.status.idle": "2022-09-27T14:47:10.232418Z",
     "shell.execute_reply": "2022-09-27T14:47:10.231044Z",
     "shell.execute_reply.started": "2022-09-27T14:47:10.223330Z"
    },
    "papermill": {
     "duration": null,
     "end_time": null,
     "exception": null,
     "start_time": null,
     "status": "pending"
    },
    "tags": []
   },
   "outputs": [],
   "source": [
    "#Linear regression mean_squared_error and r2_score\n",
    "mse=mean_squared_error(y_test,linear_pred)\n",
    "rmse=np.sqrt(mse)\n",
    "print(\"Root_mean_squred_error LinearRegression {:.4f}\".format(rmse))\n",
    "print(\"R2_score LinearRegression {:4f}\".format(r2_score(y_test,linear_pred)))\n",
    "print(\"mean_absolute_error LinearRegression {:4f}\".format(mean_absolute_error(y_test,linear_pred)))"
   ]
  },
  {
   "cell_type": "code",
   "execution_count": null,
   "id": "e5d304a5",
   "metadata": {
    "execution": {
     "iopub.execute_input": "2022-09-27T14:47:10.661806Z",
     "iopub.status.busy": "2022-09-27T14:47:10.661047Z",
     "iopub.status.idle": "2022-09-27T14:47:10.921855Z",
     "shell.execute_reply": "2022-09-27T14:47:10.920789Z",
     "shell.execute_reply.started": "2022-09-27T14:47:10.661755Z"
    },
    "papermill": {
     "duration": null,
     "end_time": null,
     "exception": null,
     "start_time": null,
     "status": "pending"
    },
    "tags": []
   },
   "outputs": [],
   "source": [
    "plt.scatter(y_test, linear_pred)\n",
    "plt.xlabel(\"Actual Price\")\n",
    "plt.ylabel(\"Predicted Price\")\n",
    "plt.title(\" Actual Prices vs Predicted Prices\")\n",
    "plt.show()\n"
   ]
  },
  {
   "cell_type": "markdown",
   "id": "88220d4d",
   "metadata": {
    "papermill": {
     "duration": null,
     "end_time": null,
     "exception": null,
     "start_time": null,
     "status": "pending"
    },
    "tags": []
   },
   "source": [
    "# DecisionTreeRegressor"
   ]
  },
  {
   "cell_type": "code",
   "execution_count": null,
   "id": "c627786c",
   "metadata": {
    "execution": {
     "iopub.execute_input": "2022-09-27T14:47:12.775753Z",
     "iopub.status.busy": "2022-09-27T14:47:12.775328Z",
     "iopub.status.idle": "2022-09-27T14:47:12.867509Z",
     "shell.execute_reply": "2022-09-27T14:47:12.866320Z",
     "shell.execute_reply.started": "2022-09-27T14:47:12.775718Z"
    },
    "papermill": {
     "duration": null,
     "end_time": null,
     "exception": null,
     "start_time": null,
     "status": "pending"
    },
    "tags": []
   },
   "outputs": [],
   "source": [
    "#Install the decisiontreeregressor from sklearn\n",
    "from sklearn.tree import DecisionTreeRegressor\n",
    "#install the model\n",
    "tree=DecisionTreeRegressor(random_state=0)\n",
    "#and fit the train data to the model\n",
    "tree.fit(X_train,y_train)\n",
    "#Prediction of the test dataset\n",
    "tree_pred=tree.predict(X_test)\n"
   ]
  },
  {
   "cell_type": "code",
   "execution_count": null,
   "id": "020f5cd7",
   "metadata": {
    "execution": {
     "iopub.execute_input": "2022-09-27T14:47:13.507589Z",
     "iopub.status.busy": "2022-09-27T14:47:13.507153Z",
     "iopub.status.idle": "2022-09-27T14:47:13.517009Z",
     "shell.execute_reply": "2022-09-27T14:47:13.515660Z",
     "shell.execute_reply.started": "2022-09-27T14:47:13.507553Z"
    },
    "papermill": {
     "duration": null,
     "end_time": null,
     "exception": null,
     "start_time": null,
     "status": "pending"
    },
    "tags": []
   },
   "outputs": [],
   "source": [
    "#Check the test score and train score to the DecisionTreeRegressor algorithm\n",
    "print(f'The Test_accuracy: {tree.score(X_test,y_test)*100:.2f}')\n",
    "#Train score for the data\n",
    "print(f'The Train_accuracy: {tree.score(X_train,y_train)*100:.2f}')"
   ]
  },
  {
   "cell_type": "code",
   "execution_count": null,
   "id": "adc3d2ed",
   "metadata": {
    "execution": {
     "iopub.execute_input": "2022-09-27T14:47:14.012794Z",
     "iopub.status.busy": "2022-09-27T14:47:14.012387Z",
     "iopub.status.idle": "2022-09-27T14:47:14.023812Z",
     "shell.execute_reply": "2022-09-27T14:47:14.022376Z",
     "shell.execute_reply.started": "2022-09-27T14:47:14.012759Z"
    },
    "papermill": {
     "duration": null,
     "end_time": null,
     "exception": null,
     "start_time": null,
     "status": "pending"
    },
    "tags": []
   },
   "outputs": [],
   "source": [
    "#DecisionTreeRegressor mean_squared_error , r2_score\n",
    "mse=mean_squared_error(y_test,tree_pred)\n",
    "rmse=np.sqrt(mse)\n",
    "print(\"Root_mean_squred_error DecisionTreeRegressor {:.4f}\".format(rmse))\n",
    "print(\"R2_score DecisionTreeRegressor {:4f}\".format(r2_score(y_test,tree_pred)))\n",
    "print(\"mean_absolute_error DecisionTreeRegressor {:4f}\".format(mean_absolute_error(y_test,tree_pred)))\n"
   ]
  },
  {
   "cell_type": "code",
   "execution_count": null,
   "id": "8b81651d",
   "metadata": {
    "execution": {
     "iopub.execute_input": "2022-09-27T14:47:15.762740Z",
     "iopub.status.busy": "2022-09-27T14:47:15.762343Z",
     "iopub.status.idle": "2022-09-27T14:47:16.032530Z",
     "shell.execute_reply": "2022-09-27T14:47:16.031647Z",
     "shell.execute_reply.started": "2022-09-27T14:47:15.762708Z"
    },
    "papermill": {
     "duration": null,
     "end_time": null,
     "exception": null,
     "start_time": null,
     "status": "pending"
    },
    "tags": []
   },
   "outputs": [],
   "source": [
    "plt.scatter(y_test, tree_pred)\n",
    "plt.xlabel(\"Actual Price\")\n",
    "plt.ylabel(\"Predicted Price\")\n",
    "plt.title(\" Actual Prices vs Predicted Prices\")\n",
    "plt.show()"
   ]
  },
  {
   "cell_type": "markdown",
   "id": "485b223d",
   "metadata": {
    "papermill": {
     "duration": null,
     "end_time": null,
     "exception": null,
     "start_time": null,
     "status": "pending"
    },
    "tags": []
   },
   "source": [
    "# RandomForestRegressor"
   ]
  },
  {
   "cell_type": "code",
   "execution_count": null,
   "id": "9aeb5d06",
   "metadata": {
    "execution": {
     "iopub.execute_input": "2022-09-27T14:47:16.594242Z",
     "iopub.status.busy": "2022-09-27T14:47:16.593553Z",
     "iopub.status.idle": "2022-09-27T14:47:16.838243Z",
     "shell.execute_reply": "2022-09-27T14:47:16.837009Z",
     "shell.execute_reply.started": "2022-09-27T14:47:16.594204Z"
    },
    "papermill": {
     "duration": null,
     "end_time": null,
     "exception": null,
     "start_time": null,
     "status": "pending"
    },
    "tags": []
   },
   "outputs": [],
   "source": [
    "#Install the RandomForestRegressor model to the sklearn\n",
    "from sklearn.ensemble import RandomForestRegressor\n",
    "#install the RandomForestRegressor\n",
    "random=RandomForestRegressor()\n",
    "#Let's fit the train data to the model\n",
    "random.fit(X_train,y_train)\n",
    "#Prediction to the test dataset\n",
    "random_pred=random.predict(X_test)"
   ]
  },
  {
   "cell_type": "code",
   "execution_count": null,
   "id": "1223ae60",
   "metadata": {
    "execution": {
     "iopub.execute_input": "2022-09-27T14:47:17.259852Z",
     "iopub.status.busy": "2022-09-27T14:47:17.259381Z",
     "iopub.status.idle": "2022-09-27T14:47:17.299902Z",
     "shell.execute_reply": "2022-09-27T14:47:17.298835Z",
     "shell.execute_reply.started": "2022-09-27T14:47:17.259817Z"
    },
    "papermill": {
     "duration": null,
     "end_time": null,
     "exception": null,
     "start_time": null,
     "status": "pending"
    },
    "tags": []
   },
   "outputs": [],
   "source": [
    "#Check the test score and train score to the RandomForestRegressor algorithm\n",
    "print(f'The Test_accuracy: {random.score(X_test,y_test)*100:.2f}')\n",
    "#Train score for the data\n",
    "print(f'The Train_accuracy: {random.score(X_train,y_train)*100:.2f}')"
   ]
  },
  {
   "cell_type": "code",
   "execution_count": null,
   "id": "c96d2a56",
   "metadata": {
    "execution": {
     "iopub.execute_input": "2022-09-27T14:47:18.467713Z",
     "iopub.status.busy": "2022-09-27T14:47:18.467000Z",
     "iopub.status.idle": "2022-09-27T14:47:18.475638Z",
     "shell.execute_reply": "2022-09-27T14:47:18.474677Z",
     "shell.execute_reply.started": "2022-09-27T14:47:18.467667Z"
    },
    "papermill": {
     "duration": null,
     "end_time": null,
     "exception": null,
     "start_time": null,
     "status": "pending"
    },
    "tags": []
   },
   "outputs": [],
   "source": [
    "#RandomForestRegressor algorithms mean_squared_error and r2_score\n",
    "mse=mean_squared_error(y_test,random_pred)\n",
    "rmse=np.sqrt(mse)\n",
    "print(\"Root_mean_squred_error RandomForestRegressor {:.4f}\".format(rmse))\n",
    "print(\"R2_score RandomForestRegressor {:4f}\".format(r2_score(y_test,random_pred)))\n",
    "print(\"mean_absolute_error RandomForestRegressor {:4f}\".format(mean_absolute_error(y_test,random_pred)))"
   ]
  },
  {
   "cell_type": "code",
   "execution_count": null,
   "id": "e1ee11d1",
   "metadata": {
    "execution": {
     "iopub.execute_input": "2022-09-27T14:47:19.224716Z",
     "iopub.status.busy": "2022-09-27T14:47:19.223679Z",
     "iopub.status.idle": "2022-09-27T14:47:19.480936Z",
     "shell.execute_reply": "2022-09-27T14:47:19.479664Z",
     "shell.execute_reply.started": "2022-09-27T14:47:19.224676Z"
    },
    "papermill": {
     "duration": null,
     "end_time": null,
     "exception": null,
     "start_time": null,
     "status": "pending"
    },
    "tags": []
   },
   "outputs": [],
   "source": [
    "plt.scatter(y_test, random_pred)\n",
    "plt.xlabel(\"Actual Price\")\n",
    "plt.ylabel(\"Predicted Price\")\n",
    "plt.title(\" Actual Prices vs Predicted Prices\")\n",
    "plt.show()"
   ]
  },
  {
   "cell_type": "markdown",
   "id": "ba98e07e",
   "metadata": {
    "papermill": {
     "duration": null,
     "end_time": null,
     "exception": null,
     "start_time": null,
     "status": "pending"
    },
    "tags": []
   },
   "source": [
    "# **XGBRegressor**"
   ]
  },
  {
   "cell_type": "code",
   "execution_count": null,
   "id": "79bf923b",
   "metadata": {
    "execution": {
     "iopub.execute_input": "2022-09-27T14:47:20.379592Z",
     "iopub.status.busy": "2022-09-27T14:47:20.378769Z",
     "iopub.status.idle": "2022-09-27T14:47:20.912957Z",
     "shell.execute_reply": "2022-09-27T14:47:20.912078Z",
     "shell.execute_reply.started": "2022-09-27T14:47:20.379554Z"
    },
    "papermill": {
     "duration": null,
     "end_time": null,
     "exception": null,
     "start_time": null,
     "status": "pending"
    },
    "tags": []
   },
   "outputs": [],
   "source": [
    "#Install the XGBRegressor from the xgboost\n",
    "from xgboost import XGBRegressor\n",
    "#Install the XGBRegressor\n",
    "xgb=XGBRegressor()\n",
    "#And fit the train data to the model\n",
    "xgb.fit(X_train,y_train)\n",
    "#Prediction of the XGBRegressor\n",
    "xgb_pred=xgb.predict(X_test)"
   ]
  },
  {
   "cell_type": "code",
   "execution_count": null,
   "id": "854bb607",
   "metadata": {
    "execution": {
     "iopub.execute_input": "2022-09-27T14:47:21.006947Z",
     "iopub.status.busy": "2022-09-27T14:47:21.006535Z",
     "iopub.status.idle": "2022-09-27T14:47:21.025039Z",
     "shell.execute_reply": "2022-09-27T14:47:21.024142Z",
     "shell.execute_reply.started": "2022-09-27T14:47:21.006915Z"
    },
    "papermill": {
     "duration": null,
     "end_time": null,
     "exception": null,
     "start_time": null,
     "status": "pending"
    },
    "tags": []
   },
   "outputs": [],
   "source": [
    "#Check the test score and train score to the LinearRegression algorithm\n",
    "print(f'The Test_accuracy: {xgb.score(X_test,y_test)*100:.2f}')\n",
    "#Train score for the data\n",
    "print(f'The Train_accuracy: {xgb.score(X_train,y_train)*100:.2f}')"
   ]
  },
  {
   "cell_type": "code",
   "execution_count": null,
   "id": "8b916fbb",
   "metadata": {
    "execution": {
     "iopub.execute_input": "2022-09-27T14:47:21.513426Z",
     "iopub.status.busy": "2022-09-27T14:47:21.512430Z",
     "iopub.status.idle": "2022-09-27T14:47:21.522129Z",
     "shell.execute_reply": "2022-09-27T14:47:21.520869Z",
     "shell.execute_reply.started": "2022-09-27T14:47:21.513387Z"
    },
    "papermill": {
     "duration": null,
     "end_time": null,
     "exception": null,
     "start_time": null,
     "status": "pending"
    },
    "tags": []
   },
   "outputs": [],
   "source": [
    "#XGBRegressor algorithms mean_squared_error and r2_score\n",
    "mse=mean_squared_error(y_test,xgb_pred)\n",
    "rmse=np.sqrt(mse)\n",
    "print(\"Root_mean_squred_error XGBRegressor {:.4f}\".format(rmse))\n",
    "print(\"R2_score XGBRegressor {:4f}\".format(r2_score(y_test,xgb_pred)))\n",
    "print(\"mean_absolute_error XGBRegressor {:4f}\".format(mean_absolute_error(y_test,xgb_pred)))"
   ]
  },
  {
   "cell_type": "code",
   "execution_count": null,
   "id": "2e90d11a",
   "metadata": {
    "execution": {
     "iopub.execute_input": "2022-09-27T14:47:23.019252Z",
     "iopub.status.busy": "2022-09-27T14:47:23.018632Z",
     "iopub.status.idle": "2022-09-27T14:47:23.286481Z",
     "shell.execute_reply": "2022-09-27T14:47:23.284883Z",
     "shell.execute_reply.started": "2022-09-27T14:47:23.019216Z"
    },
    "papermill": {
     "duration": null,
     "end_time": null,
     "exception": null,
     "start_time": null,
     "status": "pending"
    },
    "tags": []
   },
   "outputs": [],
   "source": [
    "plt.scatter(y_test, xgb_pred)\n",
    "plt.xlabel(\"Actual Price\")\n",
    "plt.ylabel(\"Predicted Price\")\n",
    "plt.title(\" Actual Prices vs Predicted Prices\")\n",
    "plt.show()"
   ]
  },
  {
   "cell_type": "code",
   "execution_count": null,
   "id": "41c45232",
   "metadata": {
    "papermill": {
     "duration": null,
     "end_time": null,
     "exception": null,
     "start_time": null,
     "status": "pending"
    },
    "tags": []
   },
   "outputs": [],
   "source": []
  }
 ],
 "metadata": {
  "kernelspec": {
   "display_name": "Python 3",
   "language": "python",
   "name": "python3"
  },
  "language_info": {
   "codemirror_mode": {
    "name": "ipython",
    "version": 3
   },
   "file_extension": ".py",
   "mimetype": "text/x-python",
   "name": "python",
   "nbconvert_exporter": "python",
   "pygments_lexer": "ipython3",
   "version": "3.10.12"
  },
  "papermill": {
   "default_parameters": {},
   "duration": 7.824068,
   "end_time": "2023-10-28T20:22:54.699304",
   "environment_variables": {},
   "exception": true,
   "input_path": "__notebook__.ipynb",
   "output_path": "__notebook__.ipynb",
   "parameters": {},
   "start_time": "2023-10-28T20:22:46.875236",
   "version": "2.4.0"
  }
 },
 "nbformat": 4,
 "nbformat_minor": 5
}
